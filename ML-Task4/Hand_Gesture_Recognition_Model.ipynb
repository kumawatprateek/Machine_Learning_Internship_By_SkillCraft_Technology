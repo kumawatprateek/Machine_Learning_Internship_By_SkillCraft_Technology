{
  "nbformat": 4,
  "nbformat_minor": 0,
  "metadata": {
    "colab": {
      "provenance": []
    },
    "kernelspec": {
      "name": "python3",
      "display_name": "Python 3"
    },
    "language_info": {
      "name": "python"
    }
  },
  "cells": [
    {
      "cell_type": "markdown",
      "source": [
        "# **Hand Gesture Recognition Model**"
      ],
      "metadata": {
        "id": "u3lu9SL87THu"
      }
    },
    {
      "cell_type": "markdown",
      "source": [
        "**Step 1: Import Necessary Libraries**"
      ],
      "metadata": {
        "id": "FyYaaK5D7VQ5"
      }
    },
    {
      "cell_type": "code",
      "execution_count": null,
      "metadata": {
        "id": "wHOzYM6z7SJ0"
      },
      "outputs": [],
      "source": [
        "# Importing libraries\n",
        "import os\n",
        "import cv2\n",
        "import numpy as np\n",
        "import matplotlib.pyplot as plt\n",
        "from sklearn.model_selection import train_test_split\n",
        "from tensorflow.keras.models import Sequential\n",
        "from tensorflow.keras.layers import Conv2D, MaxPooling2D, Flatten, Dense, Dropout\n",
        "from tensorflow.keras.utils import to_categorical\n",
        "from sklearn.metrics import classification_report\n"
      ]
    },
    {
      "cell_type": "markdown",
      "source": [
        "**Step 2; Download and Prepare the Dataset**"
      ],
      "metadata": {
        "id": "n5z6etqA7bbZ"
      }
    },
    {
      "cell_type": "code",
      "source": [
        "# Unzip the dataset\n",
        "import zipfile\n",
        "\n",
        "with zipfile.ZipFile(\"hand_gesture_dataset.zip\", \"r\") as zip_ref:\n",
        "    zip_ref.extractall(\"hand_gesture_data\")\n"
      ],
      "metadata": {
        "id": "otl8z3oL7fYO"
      },
      "execution_count": null,
      "outputs": []
    },
    {
      "cell_type": "code",
      "source": [
        "# Define dataset path\n",
        "gesture_path = \"hand_gesture_data\"\n",
        "\n",
        "# Display sample images\n",
        "def display_sample_images(path, labels):\n",
        "    plt.figure(figsize=(15, 5))\n",
        "    for i, label in enumerate(labels):\n",
        "        img_path = os.path.join(path, label, os.listdir(os.path.join(path, label))[0])\n",
        "        img = cv2.imread(img_path)\n",
        "        img = cv2.cvtColor(img, cv2.COLOR_BGR2RGB)\n",
        "        plt.subplot(1, len(labels), i + 1)\n",
        "        plt.imshow(img)\n",
        "        plt.title(label)\n",
        "        plt.axis(\"off\")\n",
        "    plt.show()\n",
        "\n",
        "# Example: Displaying five gesture classes\n",
        "gesture_labels = os.listdir(gesture_path)[:5]\n",
        "display_sample_images(gesture_path, gesture_labels)\n"
      ],
      "metadata": {
        "id": "RWbn4q8B7gGG"
      },
      "execution_count": null,
      "outputs": []
    },
    {
      "cell_type": "markdown",
      "source": [
        "**Step 3: Preprocess the Dataset**"
      ],
      "metadata": {
        "id": "XMAOAsqs7iRM"
      }
    },
    {
      "cell_type": "code",
      "source": [
        "# Parameters for preprocessing\n",
        "IMG_SIZE = 64  # Image size for resizing\n",
        "\n",
        "# Preprocess images\n",
        "def preprocess_data(path):\n",
        "    data = []\n",
        "    labels = []\n",
        "    class_names = os.listdir(path)  # Folder names as labels\n",
        "    class_mapping = {class_name: i for i, class_name in enumerate(class_names)}\n",
        "\n",
        "    for class_name in class_names:\n",
        "        class_path = os.path.join(path, class_name)\n",
        "        for img_name in os.listdir(class_path):\n",
        "            img_path = os.path.join(class_path, img_name)\n",
        "            img = cv2.imread(img_path)\n",
        "            img = cv2.resize(img, (IMG_SIZE, IMG_SIZE))  # Resize image\n",
        "            img = cv2.cvtColor(img, cv2.COLOR_BGR2GRAY)  # Convert to grayscale\n",
        "            data.append(img)\n",
        "            labels.append(class_mapping[class_name])\n",
        "\n",
        "    return np.array(data), np.array(labels), class_mapping\n",
        "\n",
        "# Load and preprocess the dataset\n",
        "X, y, class_mapping = preprocess_data(gesture_path)\n",
        "\n",
        "# Normalize pixel values and expand dimensions for CNN input\n",
        "X = X / 255.0\n",
        "X = np.expand_dims(X, axis=-1)  # Add channel dimension\n",
        "\n",
        "# Convert labels to categorical format\n",
        "y = to_categorical(y, num_classes=len(class_mapping))\n",
        "\n",
        "# Split into training and testing sets\n",
        "X_train, X_test, y_train, y_test = train_test_split(X, y, test_size=0.2, random_state=42)\n",
        "\n",
        "print(f\"Training data shape: {X_train.shape}\")\n",
        "print(f\"Testing data shape: {X_test.shape}\")\n",
        "print(f\"Class mapping: {class_mapping}\")\n"
      ],
      "metadata": {
        "id": "h-wGOUWL7n-P"
      },
      "execution_count": null,
      "outputs": []
    },
    {
      "cell_type": "markdown",
      "source": [
        "**Step 4: Build the CNN Model**"
      ],
      "metadata": {
        "id": "MW5GNReW7qOR"
      }
    },
    {
      "cell_type": "code",
      "source": [
        "# Build a CNN model\n",
        "model = Sequential([\n",
        "    Conv2D(32, (3, 3), activation=\"relu\", input_shape=(IMG_SIZE, IMG_SIZE, 1)),\n",
        "    MaxPooling2D((2, 2)),\n",
        "    Conv2D(64, (3, 3), activation=\"relu\"),\n",
        "    MaxPooling2D((2, 2)),\n",
        "    Flatten(),\n",
        "    Dense(128, activation=\"relu\"),\n",
        "    Dropout(0.5),\n",
        "    Dense(len(class_mapping), activation=\"softmax\")\n",
        "])\n",
        "\n",
        "# Compile the model\n",
        "model.compile(optimizer=\"adam\", loss=\"categorical_crossentropy\", metrics=[\"accuracy\"])\n",
        "\n",
        "# Summary of the model\n",
        "model.summary()\n"
      ],
      "metadata": {
        "id": "GfzmRw8E7uqz"
      },
      "execution_count": null,
      "outputs": []
    },
    {
      "cell_type": "markdown",
      "source": [
        "**Step 5: Train the Model**"
      ],
      "metadata": {
        "id": "N3bt21gO7v85"
      }
    },
    {
      "cell_type": "code",
      "source": [
        "# Train the model\n",
        "history = model.fit(\n",
        "    X_train, y_train,\n",
        "    validation_split=0.2,\n",
        "    epochs=10,\n",
        "    batch_size=32,\n",
        "    verbose=1\n",
        ")\n",
        "\n",
        "# Plot training history\n",
        "plt.plot(history.history[\"accuracy\"], label=\"Train Accuracy\")\n",
        "plt.plot(history.history[\"val_accuracy\"], label=\"Validation Accuracy\")\n",
        "plt.xlabel(\"Epochs\")\n",
        "plt.ylabel(\"Accuracy\")\n",
        "plt.legend()\n",
        "plt.show()\n"
      ],
      "metadata": {
        "id": "8uQzWJgT70Y8"
      },
      "execution_count": null,
      "outputs": []
    },
    {
      "cell_type": "markdown",
      "source": [
        "**Step 6: Evaluate the Model**"
      ],
      "metadata": {
        "id": "NbXvRVmz72NZ"
      }
    },
    {
      "cell_type": "code",
      "source": [
        "# Evaluate on test data\n",
        "test_loss, test_acc = model.evaluate(X_test, y_test, verbose=0)\n",
        "print(f\"Test Accuracy: {test_acc * 100:.2f}%\")\n",
        "\n",
        "# Predict and generate classification report\n",
        "y_pred = model.predict(X_test)\n",
        "y_pred_classes = np.argmax(y_pred, axis=1)\n",
        "y_true_classes = np.argmax(y_test, axis=1)\n",
        "\n",
        "print(\"Classification Report:\")\n",
        "print(classification_report(y_true_classes, y_pred_classes, target_names=class_mapping.keys()))\n"
      ],
      "metadata": {
        "id": "acIpCFgq75Tn"
      },
      "execution_count": null,
      "outputs": []
    },
    {
      "cell_type": "markdown",
      "source": [
        "**Step 7: Visualize Predictions**"
      ],
      "metadata": {
        "id": "3YXfxfjH77OW"
      }
    },
    {
      "cell_type": "code",
      "source": [
        "# Visualize some predictions\n",
        "def visualize_predictions(X, y_true, y_pred, class_mapping, num_images=5):\n",
        "    plt.figure(figsize=(15, 5))\n",
        "    for i in range(num_images):\n",
        "        img = X[i].reshape(IMG_SIZE, IMG_SIZE)\n",
        "        true_label = list(class_mapping.keys())[np.argmax(y_true[i])]\n",
        "        pred_label = list(class_mapping.keys())[y_pred[i]]\n",
        "\n",
        "        plt.subplot(1, num_images, i + 1)\n",
        "        plt.imshow(img, cmap=\"gray\")\n",
        "        plt.title(f\"True: {true_label}\\nPred: {pred_label}\")\n",
        "        plt.axis(\"off\")\n",
        "    plt.show()\n",
        "\n",
        "visualize_predictions(X_test, y_test, y_pred_classes, class_mapping)\n"
      ],
      "metadata": {
        "id": "5e2-Rgve7-xb"
      },
      "execution_count": null,
      "outputs": []
    },
    {
      "cell_type": "markdown",
      "source": [
        "**Step 8: Save the Model**"
      ],
      "metadata": {
        "id": "Plk4coFV8BVG"
      }
    },
    {
      "cell_type": "code",
      "source": [
        "# Save the model\n",
        "model.save(\"hand_gesture_recognition_model.h5\")\n",
        "print(\"Model saved as 'hand_gesture_recognition_model.h5'.\")"
      ],
      "metadata": {
        "id": "74mGsY7h8GSM"
      },
      "execution_count": null,
      "outputs": []
    }
  ]
}