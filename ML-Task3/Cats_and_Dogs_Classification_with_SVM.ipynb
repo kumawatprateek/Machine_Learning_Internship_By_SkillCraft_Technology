{
  "nbformat": 4,
  "nbformat_minor": 0,
  "metadata": {
    "colab": {
      "provenance": []
    },
    "kernelspec": {
      "name": "python3",
      "display_name": "Python 3"
    },
    "language_info": {
      "name": "python"
    }
  },
  "cells": [
    {
      "cell_type": "markdown",
      "source": [
        "# **Cats and Dogs Classification with SVM**"
      ],
      "metadata": {
        "id": "6ZDiuWW45DAj"
      }
    },
    {
      "cell_type": "markdown",
      "source": [
        "**Step 1: Import Necessary Libraries**"
      ],
      "metadata": {
        "id": "hqrtW_GE5Dm7"
      }
    },
    {
      "cell_type": "code",
      "execution_count": null,
      "metadata": {
        "id": "Orln8dtL4_-G"
      },
      "outputs": [],
      "source": [
        "# Import libraries\n",
        "import os\n",
        "import cv2\n",
        "import numpy as np\n",
        "import matplotlib.pyplot as plt\n",
        "from sklearn.model_selection import train_test_split\n",
        "from sklearn.svm import SVC\n",
        "from sklearn.metrics import classification_report, accuracy_score\n"
      ]
    },
    {
      "cell_type": "markdown",
      "source": [
        "**Step 2: Download and Prepare the Dataset**"
      ],
      "metadata": {
        "id": "lcZLtW5c5QMn"
      }
    },
    {
      "cell_type": "code",
      "source": [
        "# Unzip the dataset\n",
        "import zipfile\n",
        "with zipfile.ZipFile(\"train.zip\", \"r\") as zip_ref:\n",
        "    zip_ref.extractall(\"data\")\n"
      ],
      "metadata": {
        "id": "8T-xg46x5Vwo"
      },
      "execution_count": null,
      "outputs": []
    },
    {
      "cell_type": "code",
      "source": [
        "# Define paths for cats and dogs images\n",
        "cat_path = \"data/train/cat\"\n",
        "dog_path = \"data/train/dog\"\n",
        "\n",
        "# Display sample images\n",
        "def display_sample_images(path, label):\n",
        "    images = os.listdir(path)[:5]\n",
        "    plt.figure(figsize=(15, 5))\n",
        "    for i, img_name in enumerate(images):\n",
        "        img = cv2.imread(os.path.join(path, img_name))\n",
        "        img = cv2.cvtColor(img, cv2.COLOR_BGR2RGB)\n",
        "        plt.subplot(1, 5, i + 1)\n",
        "        plt.imshow(img)\n",
        "        plt.title(label)\n",
        "        plt.axis(\"off\")\n",
        "    plt.show()\n",
        "\n",
        "print(\"Sample Cat Images:\")\n",
        "display_sample_images(cat_path, \"Cat\")\n",
        "\n",
        "print(\"Sample Dog Images:\")\n",
        "display_sample_images(dog_path, \"Dog\")\n"
      ],
      "metadata": {
        "id": "aycM2ICT5XSh"
      },
      "execution_count": null,
      "outputs": []
    },
    {
      "cell_type": "markdown",
      "source": [
        "**Step 3: Preprocess the Dataset**"
      ],
      "metadata": {
        "id": "pijOW8Ir5ZL1"
      }
    },
    {
      "cell_type": "code",
      "source": [
        "# Parameters for preprocessing\n",
        "IMG_SIZE = 64  # Resize images to 64x64\n",
        "\n",
        "# Preprocess images\n",
        "def preprocess_images(path, label):\n",
        "    data = []\n",
        "    for img_name in os.listdir(path):\n",
        "        img_path = os.path.join(path, img_name)\n",
        "        img = cv2.imread(img_path)\n",
        "        img = cv2.resize(img, (IMG_SIZE, IMG_SIZE))  # Resize image\n",
        "        img = img.flatten()  # Flatten the image into a 1D vector\n",
        "        data.append((img, label))\n",
        "    return data\n",
        "\n",
        "# Load and preprocess images\n",
        "cat_data = preprocess_images(cat_path, 0)  # Label for cats: 0\n",
        "dog_data = preprocess_images(dog_path, 1)  # Label for dogs: 1\n",
        "\n",
        "# Combine and shuffle the dataset\n",
        "data = cat_data + dog_data\n",
        "np.random.shuffle(data)\n"
      ],
      "metadata": {
        "id": "N1FJXkhb5crg"
      },
      "execution_count": null,
      "outputs": []
    },
    {
      "cell_type": "markdown",
      "source": [
        "**Step 4:  Split Data into Training and Testing Sets**"
      ],
      "metadata": {
        "id": "BfI63JWp5guW"
      }
    },
    {
      "cell_type": "code",
      "source": [
        "# Split data into features and labels\n",
        "X = np.array([i[0] for i in data])\n",
        "y = np.array([i[1] for i in data])\n",
        "\n",
        "# Normalize the features (pixel values)\n",
        "X = X / 255.0\n",
        "\n",
        "# Split into training and testing sets\n",
        "X_train, X_test, y_train, y_test = train_test_split(X, y, test_size=0.2, random_state=42)\n",
        "\n",
        "print(f\"Training data shape: {X_train.shape}\")\n",
        "print(f\"Testing data shape: {X_test.shape}\")\n"
      ],
      "metadata": {
        "id": "rWo9RFLO5kkH"
      },
      "execution_count": null,
      "outputs": []
    },
    {
      "cell_type": "markdown",
      "source": [
        "**Step 5: Train the SVM Model**"
      ],
      "metadata": {
        "id": "NOtbGMqj5m26"
      }
    },
    {
      "cell_type": "code",
      "source": [
        "# Train an SVM classifier\n",
        "svm_model = SVC(kernel=\"linear\", random_state=42)\n",
        "svm_model.fit(X_train, y_train)\n",
        "\n",
        "print(\"SVM model training complete.\")\n"
      ],
      "metadata": {
        "id": "bllqplL65qLa"
      },
      "execution_count": null,
      "outputs": []
    },
    {
      "cell_type": "markdown",
      "source": [
        "**Step 6: Evaluate the Model**"
      ],
      "metadata": {
        "id": "lyuXlY5g5sw7"
      }
    },
    {
      "cell_type": "code",
      "source": [
        "# Make predictions on the test set\n",
        "y_pred = svm_model.predict(X_test)\n",
        "\n",
        "# Evaluate the model\n",
        "accuracy = accuracy_score(y_test, y_pred)\n",
        "print(f\"Model Accuracy: {accuracy * 100:.2f}%\")\n",
        "\n",
        "# Classification report\n",
        "print(\"Classification Report:\")\n",
        "print(classification_report(y_test, y_pred, target_names=[\"Cat\", \"Dog\"]))\n"
      ],
      "metadata": {
        "id": "zbGY3Qcg5xbv"
      },
      "execution_count": null,
      "outputs": []
    },
    {
      "cell_type": "markdown",
      "source": [
        "**Step 7: Visualize Predictions**"
      ],
      "metadata": {
        "id": "Tkf0yFRE50BE"
      }
    },
    {
      "cell_type": "code",
      "source": [
        "# Visualize some predictions\n",
        "def visualize_predictions(X, y_true, y_pred, num_images=5):\n",
        "    plt.figure(figsize=(15, 5))\n",
        "    for i in range(num_images):\n",
        "        img = X[i].reshape(IMG_SIZE, IMG_SIZE, 3) * 255\n",
        "        plt.subplot(1, num_images, i + 1)\n",
        "        plt.imshow(img.astype(\"uint8\"))\n",
        "        plt.title(f\"True: {'Cat' if y_true[i] == 0 else 'Dog'}\\nPred: {'Cat' if y_pred[i] == 0 else 'Dog'}\")\n",
        "        plt.axis(\"off\")\n",
        "    plt.show()\n",
        "\n",
        "print(\"Sample Predictions:\")\n",
        "visualize_predictions(X_test[:5], y_test[:5], y_pred[:5])\n"
      ],
      "metadata": {
        "id": "_1BYA8xX527Y"
      },
      "execution_count": null,
      "outputs": []
    },
    {
      "cell_type": "markdown",
      "source": [
        "**Step 8: Save Results**"
      ],
      "metadata": {
        "id": "ZlwZ8J6957r-"
      }
    },
    {
      "cell_type": "code",
      "source": [
        "# Save the model\n",
        "import joblib\n",
        "joblib.dump(svm_model, \"svm_dog_cat_classifier.pkl\")\n",
        "\n",
        "print(\"Model saved as 'svm_dog_cat_classifier.pkl'.\")\n"
      ],
      "metadata": {
        "id": "XvGQgHob55cM"
      },
      "execution_count": null,
      "outputs": []
    }
  ]
}